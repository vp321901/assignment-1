{
 "cells": [
  {
   "cell_type": "code",
   "execution_count": 22,
   "id": "3dc1c674-e651-44ba-af19-5c0c368cc4dd",
   "metadata": {},
   "outputs": [],
   "source": [
    "    #answer:-1\n",
    "    \n",
    "    \n",
    "    \n",
    "    \n",
    "    \n",
    "    \n",
    "# string\n",
    "a = \"pw skill\""
   ]
  },
  {
   "cell_type": "code",
   "execution_count": 2,
   "id": "a241e00a-c070-4684-93fa-5eef22e13e63",
   "metadata": {},
   "outputs": [
    {
     "data": {
      "text/plain": [
       "'pw skill'"
      ]
     },
     "execution_count": 2,
     "metadata": {},
     "output_type": "execute_result"
    }
   ],
   "source": [
    "a"
   ]
  },
  {
   "cell_type": "code",
   "execution_count": 3,
   "id": "1718e84b-2a7a-42a0-9ff1-1667c02b7292",
   "metadata": {},
   "outputs": [],
   "source": [
    "#list\n",
    "l = [1,2.23,True,\"assignment\"]"
   ]
  },
  {
   "cell_type": "code",
   "execution_count": 4,
   "id": "d7682f4d-b729-41ca-b2f4-e970f23d95f5",
   "metadata": {},
   "outputs": [
    {
     "data": {
      "text/plain": [
       "[1, 2.23, True, 'assignment']"
      ]
     },
     "execution_count": 4,
     "metadata": {},
     "output_type": "execute_result"
    }
   ],
   "source": [
    "l"
   ]
  },
  {
   "cell_type": "code",
   "execution_count": 5,
   "id": "269bee61-4e74-4918-a7a8-a26e03802fd8",
   "metadata": {},
   "outputs": [],
   "source": [
    "#float\n",
    "b = 4.65656"
   ]
  },
  {
   "cell_type": "code",
   "execution_count": 6,
   "id": "1e80473b-a385-4fe1-9967-34d4655d20ab",
   "metadata": {},
   "outputs": [
    {
     "data": {
      "text/plain": [
       "4.65656"
      ]
     },
     "execution_count": 6,
     "metadata": {},
     "output_type": "execute_result"
    }
   ],
   "source": [
    "b"
   ]
  },
  {
   "cell_type": "code",
   "execution_count": 7,
   "id": "869a43aa-7e80-4ddc-9d12-f419705b22d9",
   "metadata": {},
   "outputs": [],
   "source": [
    "#tuple\n",
    "t = (20, 3.56,\"pw skills\",[2,3,4.66])"
   ]
  },
  {
   "cell_type": "code",
   "execution_count": 8,
   "id": "0415d34b-781d-4643-ab1c-290993cece37",
   "metadata": {},
   "outputs": [
    {
     "data": {
      "text/plain": [
       "(20, 3.56, 'pw skills', [2, 3, 4.66])"
      ]
     },
     "execution_count": 8,
     "metadata": {},
     "output_type": "execute_result"
    }
   ],
   "source": [
    "t"
   ]
  },
  {
   "cell_type": "code",
   "execution_count": 28,
   "id": "a847e23b-a1af-4e70-9cca-7060da612542",
   "metadata": {},
   "outputs": [],
   "source": [
    "      #Answer:-2\n",
    "    \n",
    "    \n",
    "    \n",
    "    \n",
    "var1 = ' '"
   ]
  },
  {
   "cell_type": "code",
   "execution_count": 20,
   "id": "cce986fd-a62f-43b3-8721-7985f5f3a2b9",
   "metadata": {},
   "outputs": [
    {
     "data": {
      "text/plain": [
       "str"
      ]
     },
     "execution_count": 20,
     "metadata": {},
     "output_type": "execute_result"
    }
   ],
   "source": [
    "type(var1)"
   ]
  },
  {
   "cell_type": "code",
   "execution_count": 21,
   "id": "546d2b52-05a4-4a49-ab2c-1b750e5bf56f",
   "metadata": {},
   "outputs": [],
   "source": [
    "var2 = '[ DS , ML , Python]'"
   ]
  },
  {
   "cell_type": "code",
   "execution_count": 22,
   "id": "deb4307d-e58d-4775-8c50-11a05bf1c2ea",
   "metadata": {},
   "outputs": [
    {
     "data": {
      "text/plain": [
       "str"
      ]
     },
     "execution_count": 22,
     "metadata": {},
     "output_type": "execute_result"
    }
   ],
   "source": [
    "type(var2)"
   ]
  },
  {
   "cell_type": "code",
   "execution_count": 24,
   "id": "b9a6da03-653c-46b1-baa2-c86872e6f06f",
   "metadata": {},
   "outputs": [],
   "source": [
    "var3 = [ 'DS' , 'ML' , 'Python' ]"
   ]
  },
  {
   "cell_type": "code",
   "execution_count": 25,
   "id": "78e3fe6e-7272-44bb-901c-674e73f8e3e0",
   "metadata": {},
   "outputs": [
    {
     "data": {
      "text/plain": [
       "list"
      ]
     },
     "execution_count": 25,
     "metadata": {},
     "output_type": "execute_result"
    }
   ],
   "source": [
    "type(var3)"
   ]
  },
  {
   "cell_type": "code",
   "execution_count": 26,
   "id": "6a76e83d-994a-4dde-8b5e-f67b995ac03d",
   "metadata": {},
   "outputs": [],
   "source": [
    "var4 = 1."
   ]
  },
  {
   "cell_type": "code",
   "execution_count": 27,
   "id": "f50efb36-0548-40fc-8bd3-a17d97b6bbbf",
   "metadata": {},
   "outputs": [
    {
     "data": {
      "text/plain": [
       "float"
      ]
     },
     "execution_count": 27,
     "metadata": {},
     "output_type": "execute_result"
    }
   ],
   "source": [
    "type(var4)"
   ]
  },
  {
   "cell_type": "code",
   "execution_count": 30,
   "id": "cb127a28-7e52-410b-a37b-6bb5344d6899",
   "metadata": {},
   "outputs": [],
   "source": [
    "      #answer:-3\n",
    "    \n",
    "    \n",
    "    \n",
    "# /  It is a division operator type. It is used for dividing two number."
   ]
  },
  {
   "cell_type": "code",
   "execution_count": 31,
   "id": "9ca2466f-003c-40e1-bd90-049d034a9f2c",
   "metadata": {},
   "outputs": [
    {
     "data": {
      "text/plain": [
       "3.0"
      ]
     },
     "execution_count": 31,
     "metadata": {},
     "output_type": "execute_result"
    }
   ],
   "source": [
    "6 / 2"
   ]
  },
  {
   "cell_type": "code",
   "execution_count": 32,
   "id": "55ea1e93-79e1-4201-9b80-4df412e9ef60",
   "metadata": {},
   "outputs": [],
   "source": [
    "# %  It is a remainder operator. It is used for finding remainder ."
   ]
  },
  {
   "cell_type": "code",
   "execution_count": 33,
   "id": "6b0d7508-eedf-48af-89a3-018a66ada5d5",
   "metadata": {},
   "outputs": [
    {
     "data": {
      "text/plain": [
       "2"
      ]
     },
     "execution_count": 33,
     "metadata": {},
     "output_type": "execute_result"
    }
   ],
   "source": [
    "10 % 4"
   ]
  },
  {
   "cell_type": "code",
   "execution_count": 34,
   "id": "05823f3a-f00b-4cbc-af5b-a1382edbdc11",
   "metadata": {},
   "outputs": [],
   "source": [
    "# // it is a floor division operator"
   ]
  },
  {
   "cell_type": "code",
   "execution_count": 35,
   "id": "c01bad52-7cf3-4cc6-8bcb-aed786c59325",
   "metadata": {},
   "outputs": [
    {
     "data": {
      "text/plain": [
       "1"
      ]
     },
     "execution_count": 35,
     "metadata": {},
     "output_type": "execute_result"
    }
   ],
   "source": [
    "5 // 4"
   ]
  },
  {
   "cell_type": "code",
   "execution_count": 36,
   "id": "91d7f131-c892-46d4-9bbf-a112660782cc",
   "metadata": {},
   "outputs": [],
   "source": [
    "# ** It is a power operator. it is used to find power of any number"
   ]
  },
  {
   "cell_type": "code",
   "execution_count": 37,
   "id": "05b7528b-5ab0-4cf9-ac03-8e8e5c8a2294",
   "metadata": {},
   "outputs": [
    {
     "data": {
      "text/plain": [
       "32"
      ]
     },
     "execution_count": 37,
     "metadata": {},
     "output_type": "execute_result"
    }
   ],
   "source": [
    "2 ** 5"
   ]
  },
  {
   "cell_type": "code",
   "execution_count": 41,
   "id": "c17d073a-4289-4480-8d61-af0c1784498d",
   "metadata": {},
   "outputs": [],
   "source": [
    "        #Answer:-4\n",
    "    \n",
    "    \n",
    "g = [1,2,1.233,2.466,\"vipul\",\"tushar\",True,False,3+4j,7+5j]"
   ]
  },
  {
   "cell_type": "code",
   "execution_count": 45,
   "id": "5c78cc5f-86e0-426b-ba97-2fbf63a84a78",
   "metadata": {},
   "outputs": [
    {
     "name": "stdout",
     "output_type": "stream",
     "text": [
      "1\n",
      "<class 'int'>\n",
      "2\n",
      "<class 'int'>\n",
      "1.233\n",
      "<class 'float'>\n",
      "2.466\n",
      "<class 'float'>\n",
      "vipul\n",
      "<class 'str'>\n",
      "tushar\n",
      "<class 'str'>\n",
      "True\n",
      "<class 'bool'>\n",
      "False\n",
      "<class 'bool'>\n",
      "(3+4j)\n",
      "<class 'complex'>\n",
      "(7+5j)\n",
      "<class 'complex'>\n"
     ]
    }
   ],
   "source": [
    "for val in g :\n",
    "    print(val)\n",
    "    print(type(val))"
   ]
  },
  {
   "cell_type": "code",
   "execution_count": 23,
   "id": "93bc3e61",
   "metadata": {},
   "outputs": [
    {
     "name": "stdout",
     "output_type": "stream",
     "text": [
      "5\n"
     ]
    }
   ],
   "source": [
    "#Answer:-5\n",
    "\n",
    "a = 10\n",
    "b = 2\n",
    "result = a//b\n",
    "print(result)"
   ]
  },
  {
   "cell_type": "code",
   "execution_count": 19,
   "id": "0ccf086b",
   "metadata": {},
   "outputs": [
    {
     "name": "stdout",
     "output_type": "stream",
     "text": [
      "1\n",
      "this number are not divisible by 3\n",
      "2\n",
      "this number are not divisible by 3\n",
      "3\n",
      "this numbers are divisible by 3\n",
      "4\n",
      "this number are not divisible by 3\n",
      "5\n",
      "this number are not divisible by 3\n",
      "6\n",
      "this numbers are divisible by 3\n",
      "7\n",
      "this number are not divisible by 3\n",
      "8\n",
      "this number are not divisible by 3\n",
      "9\n",
      "this numbers are divisible by 3\n",
      "10\n",
      "this number are not divisible by 3\n",
      "11.12\n",
      "this number are not divisible by 3\n",
      "13\n",
      "this number are not divisible by 3\n",
      "14\n",
      "this number are not divisible by 3\n",
      "15\n",
      "this numbers are divisible by 3\n",
      "16\n",
      "this number are not divisible by 3\n",
      "17\n",
      "this number are not divisible by 3\n",
      "18\n",
      "this numbers are divisible by 3\n",
      "19\n",
      "this number are not divisible by 3\n",
      "20\n",
      "this number are not divisible by 3\n",
      "21\n",
      "this numbers are divisible by 3\n",
      "22\n",
      "this number are not divisible by 3\n",
      "23\n",
      "this number are not divisible by 3\n",
      "24\n",
      "this numbers are divisible by 3\n",
      "25\n",
      "this number are not divisible by 3\n"
     ]
    }
   ],
   "source": [
    "#Answer:-6\n",
    "\n",
    "l = [1,2,3,4,5,6,7,8,9,10,11.12,13,14,15,16,17,18,19,20,21,22,23,24,25]\n",
    "for i in l :\n",
    "    if i % 3 == 0 :\n",
    "        print(i)\n",
    "\n",
    "        print(\"this numbers are divisible by 3\")\n",
    "    elif i != 0 :\n",
    "        print(i)\n",
    "        print(\"this number are not divisible by 3\")"
   ]
  },
  {
   "cell_type": "code",
   "execution_count": null,
   "id": "982fb21b",
   "metadata": {},
   "outputs": [],
   "source": [
    "#Answer:-7\n",
    "\n",
    "#Mutable objects are those that allow you to change their value or data in place without affecting the object's identity.\n",
    "# example of mutable object are:- list, string \n",
    "#immutable objects don't allow this kind of operation\n",
    "#example of immutable object:- integer, float, bool"
   ]
  }
 ],
 "metadata": {
  "kernelspec": {
   "display_name": "Python 3 (ipykernel)",
   "language": "python",
   "name": "python3"
  },
  "language_info": {
   "codemirror_mode": {
    "name": "ipython",
    "version": 3
   },
   "file_extension": ".py",
   "mimetype": "text/x-python",
   "name": "python",
   "nbconvert_exporter": "python",
   "pygments_lexer": "ipython3",
   "version": "3.11.3"
  }
 },
 "nbformat": 4,
 "nbformat_minor": 5
}
